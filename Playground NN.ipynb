{
 "cells": [
  {
   "cell_type": "code",
   "execution_count": 130,
   "metadata": {
    "collapsed": false
   },
   "outputs": [
    {
     "name": "stdout",
     "output_type": "stream",
     "text": [
      "Total Samples:  8036\n"
     ]
    }
   ],
   "source": [
    "import csv\n",
    "udacity_csv = 'udacity_data/driving_log.csv'\n",
    "\n",
    "# Step 1: Read the CSV File\n",
    "lines = []\n",
    "with open(udacity_csv) as f:\n",
    "    reader = csv.reader(f)\n",
    "    for line in reader:\n",
    "        lines.append(line)\n",
    "        \n",
    "print('Total Samples: ', len(lines))\n",
    "\n",
    "# count = 0\n",
    "# new_sample = []\n",
    "# for sample in lines:\n",
    "    \n",
    "    \n",
    "#     center_angle = float(sample[3])\n",
    "#     if center_angle == 0.0:\n",
    "#         count = count + 1\n",
    "#         if np.random.uniform() < 0.2:\n",
    "#             new_sample.append(sample)\n",
    "#     else:\n",
    "#         new_sample.append(sample)\n",
    "\n",
    "# lines = new_sample\n",
    "\n",
    "# print('Adjusted Samples: ', len(lines))"
   ]
  },
  {
   "cell_type": "code",
   "execution_count": 131,
   "metadata": {
    "collapsed": false
   },
   "outputs": [
    {
     "name": "stdout",
     "output_type": "stream",
     "text": [
      "Total Training Samples 6428\n",
      "Total Validation Samples 1608\n"
     ]
    }
   ],
   "source": [
    "from sklearn.model_selection import train_test_split\n",
    "\n",
    "train_samples, validation_samples = train_test_split(lines, test_size=0.2)\n",
    "print('Total Training Samples', len(train_samples))\n",
    "print('Total Validation Samples', len(validation_samples))"
   ]
  },
  {
   "cell_type": "markdown",
   "metadata": {},
   "source": [
    "#### Helpers"
   ]
  },
  {
   "cell_type": "code",
   "execution_count": 124,
   "metadata": {
    "collapsed": false
   },
   "outputs": [],
   "source": [
    "import cv2\n",
    "import numpy as np\n",
    "from sklearn.utils import shuffle\n",
    "import os\n",
    "dir_path = os.getcwd()\n",
    "\n",
    "def shift_img(image, angle):\n",
    "    \"\"\" shift image randomly\n",
    "    \tsource: https://github.com/windowsub0406/Behavior-Cloning/blob/master/model.py \"\"\"\n",
    "    max_shift = 55\n",
    "    max_ang = 0.14  # ang_per_pixel = 0.0025\n",
    "\n",
    "    rows, cols, _ = image.shape\n",
    "\n",
    "    random_x = np.random.randint(-max_shift, max_shift + 1)\n",
    "    steer = angle + (random_x / max_shift) * max_ang\n",
    "    if abs(steer) > 1:\n",
    "        dst_steer = -1 if (steer < 0) else 1\n",
    "\n",
    "    mat = np.float32([[1, 0, random_x], [0, 1, 0]])\n",
    "    dst_img = cv2.warpAffine(image, mat, (cols, rows))\n",
    "    \n",
    "    return dst_img, steer\n",
    "\n",
    "def get_image_and_angle(batch_sample):\n",
    "    # Image\n",
    "    random = np.random.randint(3)\n",
    "    path = batch_sample[random].strip()\n",
    "    if path.split('/')[0] == 'IMG':\n",
    "        path = dir_path + '/udacity_data/' + path\n",
    "\n",
    "    # Angle\n",
    "    angle = float(batch_sample[3])\n",
    "    if random == 1:\n",
    "        angle = angle + 0.22\n",
    "    if random == 2:\n",
    "        angle = angle - 0.22\n",
    "\n",
    "    return path, angle\n",
    "\n",
    "def flip_image(image, angle):\n",
    "    flip_image = image.copy()\n",
    "    flip_angle = angle\n",
    "    num = np.random.randint(2)\n",
    "    if num == 0:\n",
    "        flip_image, flip_angle = cv2.flip(image, 1), -angle\n",
    "\n",
    "    return flip_image, flip_angle\n",
    "\n",
    "def augment_brightness(image):\n",
    "    hsv_img = cv2.cvtColor(image, cv2.COLOR_RGB2HSV)\n",
    "    random = np.random.randint(2)\n",
    "\n",
    "    if random == 0:\n",
    "        random_bright = 0.2 + np.random.uniform(0.2, 0.6)\n",
    "        hsv_img[:,:,2] = hsv_img[:,:,2] * random_bright\n",
    "    hsv_img = cv2.cvtColor(hsv_img, cv2.COLOR_HSV2RGB)\n",
    "\n",
    "    return hsv_img\n",
    "\n",
    "def preprocess(image, angle):\n",
    "    image, angle = shift_img(image, angle)\n",
    "    image, angle = flip_image(image, angle)\n",
    "    image = augment_brightness(image)\n",
    "\n",
    "    return image, angle\n",
    "\n",
    "def train_generator(samples, batch_size=32):\n",
    "    num_samples = len(samples)\n",
    "    while 1:\n",
    "        shuffle(samples)\n",
    "        for offset in range(0, num_samples, batch_size):\n",
    "            batch_samples = samples[offset:offset + batch_size]\n",
    "\n",
    "            images = []\n",
    "            steering_angles = []\n",
    "            for batch_sample in batch_samples:\n",
    "                image, angle = get_image_and_angle(batch_sample)\n",
    "                image = cv2.imread(image)\n",
    "\n",
    "                image, angle = preprocess(image, angle)\n",
    "                images.append(image)\n",
    "                steering_angles.append(angle)\n",
    "\n",
    "            X_train = np.array(images)\n",
    "            y_train = np.array(steering_angles)\n",
    "            yield shuffle(X_train, y_train)\n",
    "\n",
    "def valid_generator(samples, batch_size=32):\n",
    "    image_set = np.zeros((len(validation_samples), 160, 320, 3))\n",
    "    angles_set = np.zeros(len(validation_samples))\n",
    "\n",
    "    for i in range(len(samples)):\n",
    "        # Image\n",
    "        sample = samples[i]\n",
    "        path = sample[0].strip()\n",
    "        if path.split('/')[0] == 'IMG':\n",
    "            path = dir_path + '/udacity_data/' + path\n",
    "        image = cv2.imread(path)\n",
    "        # img = image[60:136,0:image.shape[1],:]\n",
    "        image_set[i] = image\n",
    "\n",
    "        # Angle\n",
    "        angles_set[i] = float(sample[3])\n",
    "\n",
    "        return image_set, angles_set\n"
   ]
  },
  {
   "cell_type": "code",
   "execution_count": 125,
   "metadata": {
    "collapsed": false
   },
   "outputs": [],
   "source": [
    "# import matplotlib.pyplot as plt\n",
    "# %matplotlib inline\n",
    "\n",
    "# original_img, original_steering = get_image_and_angle(train_samples[0])\n",
    "# original_img = cv2.imread(original_img)\n",
    "\n",
    "# shift_image, shift_steering = shift_img(original_img, original_steering)\n",
    "\n",
    "# plt.subplot(1,2,1);\n",
    "# plt.imshow(original_img);\n",
    "# plt.subplot(1,2,2);\n",
    "# plt.imshow(shift_image);\n",
    "# plt.show()"
   ]
  },
  {
   "cell_type": "code",
   "execution_count": 126,
   "metadata": {
    "collapsed": false
   },
   "outputs": [],
   "source": [
    "# import matplotlib.pyplot as plt\n",
    "# %matplotlib inline\n",
    "\n",
    "# original_img, original_steering = get_image_and_angle(train_samples[0])\n",
    "# original_img = cv2.imread(original_img)\n",
    "\n",
    "# flip_image, flip_steering = flip_image(original_img, original_steering)\n",
    "\n",
    "# plt.subplot(1,2,1);\n",
    "# plt.imshow(original_img);\n",
    "# plt.subplot(1,2,2);\n",
    "# plt.imshow(flip_image);\n",
    "# plt.show()"
   ]
  },
  {
   "cell_type": "code",
   "execution_count": 127,
   "metadata": {
    "collapsed": false
   },
   "outputs": [],
   "source": [
    "# import matplotlib.pyplot as plt\n",
    "# %matplotlib inline\n",
    "\n",
    "# original_img, original_steering = get_image_and_angle(train_samples[0])\n",
    "# original_img = cv2.imread(original_img)\n",
    "\n",
    "# aug_br_image = augment_brightness(original_img)\n",
    "\n",
    "# plt.subplot(1,2,1);\n",
    "# plt.imshow(original_img);\n",
    "# plt.subplot(1,2,2);\n",
    "# plt.imshow(aug_br_image);\n",
    "# plt.show()"
   ]
  },
  {
   "cell_type": "markdown",
   "metadata": {},
   "source": [
    "#### Model"
   ]
  },
  {
   "cell_type": "code",
   "execution_count": 128,
   "metadata": {
    "collapsed": false
   },
   "outputs": [],
   "source": [
    "from keras.models import Sequential\n",
    "from keras.layers import Flatten, Dense, Lambda, Dropout, ELU\n",
    "from keras.layers.convolutional import Convolution2D, Cropping2D\n",
    "from keras.layers.pooling import MaxPooling2D\n",
    "from keras.optimizers import Adam\n",
    "\n",
    "\n",
    "model = Sequential()\n",
    "# normalization\n",
    "model.add(Lambda(lambda x: x / 255.0 - 0.5, input_shape=(160, 320, 3)))\n",
    "model.add(Cropping2D(cropping=((72,25),(0,0))))\n",
    "\n",
    "# nvidia nn\n",
    "model.add(Convolution2D(24,5,5,subsample=(2,2),activation='relu', name=\"conv0\"))\n",
    "model.add(MaxPooling2D(pool_size=(2, 2), strides=(1,1)))\n",
    "\n",
    "model.add(Convolution2D(36,5,5,subsample=(2,2),activation='relu', name=\"conv1\"))\n",
    "model.add(MaxPooling2D(pool_size=(2, 2), strides=(1,1), border_mode='same'))\n",
    "\n",
    "model.add(Convolution2D(48,5,5,subsample=(2,2),activation='relu', name=\"conv2\"))\n",
    "model.add(MaxPooling2D(pool_size=(2, 2), strides=(1,1), border_mode='same'))\n",
    "\n",
    "model.add(Convolution2D(64,3,3,activation='relu', name=\"conv3\"))\n",
    "model.add(MaxPooling2D(pool_size=(2, 2), strides=(1,1), border_mode='same'))\n",
    "\n",
    "model.add(Convolution2D(64,3,3, activation='relu', name=\"conv4\"))\n",
    "model.add(MaxPooling2D(pool_size=(2, 2), strides=(1,1), border_mode='same'))\n",
    "\n",
    "model.add(Flatten())\n",
    "model.add(Dropout(0.2))\n",
    "model.add(Dense(1164, activation='relu'))\n",
    "model.add(Dropout(0.2))\n",
    "model.add(Dense(100, activation='relu'))\n",
    "model.add(Dropout(0.2))\n",
    "model.add(Dense(50, activation='relu'))\n",
    "model.add(Dropout(0.2))\n",
    "model.add(Dense(10, activation='relu'))\n",
    "model.add(Dropout(0.2))\n",
    "model.add(Dense(1))\n",
    "\n",
    "# model.summary()\n",
    "\n",
    "adam = Adam(lr=1e-4, beta_1=0.9, beta_2=0.999, epsilon=1e-08, decay=0.0)\n",
    "model.compile(optimizer=adam, loss='mse')"
   ]
  },
  {
   "cell_type": "code",
   "execution_count": 129,
   "metadata": {
    "collapsed": false
   },
   "outputs": [
    {
     "name": "stdout",
     "output_type": "stream",
     "text": [
      "Epoch 1/10\n",
      "3615/3615 [==============================] - 54s - loss: 0.0536 - val_loss: 0.0017\n",
      "Epoch 2/10\n",
      "3615/3615 [==============================] - 65s - loss: 0.0391 - val_loss: 6.7026e-04\n",
      "Epoch 3/10\n",
      "3615/3615 [==============================] - 81s - loss: 0.0360 - val_loss: 0.0021\n",
      "Epoch 4/10\n",
      "3615/3615 [==============================] - 70s - loss: 0.0349 - val_loss: 0.0017\n",
      "Epoch 5/10\n",
      "3615/3615 [==============================] - 68s - loss: 0.0332 - val_loss: 0.0037\n",
      "Epoch 6/10\n",
      "3615/3615 [==============================] - 71s - loss: 0.0325 - val_loss: 0.0010\n",
      "Epoch 7/10\n",
      "3615/3615 [==============================] - 70s - loss: 0.0306 - val_loss: 1.7319e-04\n",
      "Epoch 8/10\n",
      "3615/3615 [==============================] - 70s - loss: 0.0310 - val_loss: 0.0055\n",
      "Epoch 9/10\n",
      "3615/3615 [==============================] - 73s - loss: 0.0293 - val_loss: 0.0026\n",
      "Epoch 10/10\n",
      "3615/3615 [==============================] - 75s - loss: 0.0280 - val_loss: 6.0674e-05\n",
      "dict_keys(['val_loss', 'loss'])\n"
     ]
    },
    {
     "data": {
      "image/png": "[encoded data removed]",
      "text/plain": [
       "<matplotlib.figure.Figure at 0x16a97cda0>"
      ]
     },
     "metadata": {},
     "output_type": "display_data"
    }
   ],
   "source": [
    "import matplotlib.pyplot as plt\n",
    "\n",
    "train_generator = train_generator(train_samples, batch_size=32)\n",
    "valid_generator = valid_generator(validation_samples, batch_size=32)\n",
    "\n",
    "history_object = model.fit_generator(\n",
    "    train_generator,\n",
    "    samples_per_epoch=len(train_samples),\n",
    "    validation_data=valid_generator,\n",
    "    nb_epoch=10,\n",
    "    verbose=1)\n",
    "\n",
    "### print the keys contained in the history object\n",
    "print(history_object.history.keys())\n",
    "\n",
    "### plot the training and validation loss for each epoch\n",
    "plt.plot(history_object.history['loss'])\n",
    "plt.plot(history_object.history['val_loss'])\n",
    "plt.title('model mean squared error loss')\n",
    "plt.ylabel('mean squared error loss')\n",
    "plt.xlabel('epoch')\n",
    "plt.legend(['training set', 'validation set'], loc='upper right')\n",
    "plt.show()\n",
    "\n",
    "# model.save('model-hip.h5')\n",
    "# K.clear_session()"
   ]
  },
  {
   "cell_type": "code",
   "execution_count": null,
   "metadata": {
    "collapsed": true
   },
   "outputs": [],
   "source": []
  }
 ],
 "metadata": {
  "anaconda-cloud": {},
  "kernelspec": {
   "display_name": "Python [conda env:carnd-term1]",
   "language": "python",
   "name": "conda-env-carnd-term1-py"
  },
  "language_info": {
   "codemirror_mode": {
    "name": "ipython",
    "version": 3
   },
   "file_extension": ".py",
   "mimetype": "text/x-python",
   "name": "python",
   "nbconvert_exporter": "python",
   "pygments_lexer": "ipython3",
   "version": "3.5.2"
  }
 },
 "nbformat": 4,
 "nbformat_minor": 1
}
