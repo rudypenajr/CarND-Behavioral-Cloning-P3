{
 "cells": [
  {
   "cell_type": "markdown",
   "metadata": {},
   "source": [
    "### Imports & Some Variables"
   ]
  },
  {
   "cell_type": "code",
   "execution_count": 1,
   "metadata": {
    "collapsed": true
   },
   "outputs": [],
   "source": [
    "import matplotlib.pyplot as plt\n",
    "import tensorflow as tf\n",
    "import matplotlib.gridspec as gridspec\n",
    "import cv2\n",
    "import matplotlib.image as mpimg\n",
    "import os\n",
    "import pickle\n",
    "import pandas as pd\n",
    "from sklearn.utils import shuffle\n",
    "import numpy as np\n",
    "from sklearn.model_selection import train_test_split\n",
    "%matplotlib inline\n",
    "\n",
    "csv = 'driving_log.csv'"
   ]
  },
  {
   "cell_type": "markdown",
   "metadata": {},
   "source": [
    "### Convert CSV to Data Frame\n",
    "\n",
    "When learning a bit more about `pandas`, I came across this use of [DataFrames](https://www.datacamp.com/community/tutorials/pandas-tutorial-dataframe-python#question1). I see it as a excel spreadsheet that can live within the realm of Python, removing the idea in my head of being tied to the csv path's location and file itself."
   ]
  },
  {
   "cell_type": "code",
   "execution_count": 2,
   "metadata": {
    "collapsed": false
   },
   "outputs": [],
   "source": [
    "def convertCSVtoDataFrame(csv_path):\n",
    "    \"\"\"\n",
    "    input: String - path to csv file\n",
    "    output: Data Frame\n",
    "    \"\"\"\n",
    "    df = pd.read_csv(csv_path)\n",
    "    df.columns = ['center', 'left', 'right', 'steering', 'throttle', 'brake', 'speed']\n",
    "    return df"
   ]
  },
  {
   "cell_type": "markdown",
   "metadata": {},
   "source": [
    "### Seperation of Center, Left, Right Turns\n",
    "\n",
    "We want to split the data into their approriate turns: center, left, and right."
   ]
  },
  {
   "cell_type": "code",
   "execution_count": 3,
   "metadata": {
    "collapsed": false
   },
   "outputs": [],
   "source": [
    "def separateCenterLeftRightTurns(data):\n",
    "    \"\"\"\n",
    "    input: DataFrame\n",
    "    output: Arrays (3)\n",
    "    \"\"\"\n",
    "    center_turns = []\n",
    "    left_turns = []\n",
    "    right_turns = []\n",
    "\n",
    "    for idx, row in data.iterrows():\n",
    "        center = row['center']\n",
    "        left = row['left']\n",
    "        right = row['right']\n",
    "        steering = row['steering']\n",
    "\n",
    "        if steering > 0.125:\n",
    "            right_turns.append([center, left, right, steering])\n",
    "        elif steering < -1 * 0.125:\n",
    "            left_turns.append([center, left, right, steering])\n",
    "        else:\n",
    "            center_turns.append([center, left, right, steering])\n",
    "    \n",
    "    return center_turns, left_turns, right_turns"
   ]
  },
  {
   "cell_type": "markdown",
   "metadata": {},
   "source": [
    "## Prep Training Data\n",
    "\n",
    "### Grab Udacity Data, Convert to DataFrame, and Separate\n",
    "\n",
    "Lets implement some of the items discussed in the lesson."
   ]
  },
  {
   "cell_type": "code",
   "execution_count": 9,
   "metadata": {
    "collapsed": false
   },
   "outputs": [
    {
     "name": "stdout",
     "output_type": "stream",
     "text": [
      "Length of Center Turns:  6119\n",
      "Length of Left Turns:  849\n",
      "Length of Right Turns:  1068\n"
     ]
    }
   ],
   "source": [
    "df_udacity = convertCSVtoDataFrame(csv)\n",
    "df__udacity_features = ['center', 'left', 'right', 'steering']\n",
    "# df = convertCSVtoDataFrame(csv)\n",
    "\n",
    "center_turns, left_turns, right_turns = separateCenterLeftRightTurns(df_udacity)\n",
    "print('Length of Center Turns: ', len(center_turns))\n",
    "print('Length of Left Turns: ', len(left_turns))\n",
    "print('Length of Right Turns: ', len(right_turns))"
   ]
  },
  {
   "cell_type": "markdown",
   "metadata": {},
   "source": [
    "### Evaluation\n",
    "\n",
    "Data for left and right turns are a sixth of the center turns data. Since we are going later be using some of data augmentation methods presented in class, we could duplicate the images for the left and right turn. \n",
    "\n",
    "### Duplicate Left and Right Images"
   ]
  },
  {
   "cell_type": "code",
   "execution_count": 24,
   "metadata": {
    "collapsed": false
   },
   "outputs": [
    {
     "name": "stdout",
     "output_type": "stream",
     "text": [
      "u_center_turns.index:  9692496\n",
      "u_left_turns.index:  2200608\n",
      "u_right_turns.index:  2768256\n"
     ]
    }
   ],
   "source": [
    "def duplicateImagery(turn, increment_by):\n",
    "    for i in range(len(turn)):\n",
    "        for j in range(increment_by):\n",
    "            turn.append([turn[i][0], turn[i][1], turn[i][2], turn[i][3]])\n",
    "    return turn\n",
    "\n",
    "df_center_turns = duplicateImagery(center_turns, 10)\n",
    "df_left_turns = duplicateImagery(left_turns, 0)\n",
    "df_right_turns = duplicateImagery(right_turns, 0)\n",
    "\n",
    "u_center_turns = pd.DataFrame(df_center_turns, columns=df__udacity_features)\n",
    "u_left_turns = pd.DataFrame(df_left_turns, columns=df__udacity_features)\n",
    "u_right_turns = pd.DataFrame(df_right_turns, columns=df__udacity_features)\n",
    "\n",
    "print('u_center_turns.index: ', len(u_center_turns.index))\n",
    "print('u_left_turns.index: ', len(u_left_turns.index))\n",
    "print('u_right_turns.index: ', len(u_right_turns.index))"
   ]
  },
  {
   "cell_type": "code",
   "execution_count": 25,
   "metadata": {
    "collapsed": false
   },
   "outputs": [],
   "source": [
    "# plt.hist(np.asarray(u_left_turns['steering'], dtype=np.float32))"
   ]
  },
  {
   "cell_type": "markdown",
   "metadata": {},
   "source": [
    "### Shuffle"
   ]
  },
  {
   "cell_type": "code",
   "execution_count": 31,
   "metadata": {
    "collapsed": false
   },
   "outputs": [
    {
     "name": "stdout",
     "output_type": "stream",
     "text": [
      "training data size:  14661360\n"
     ]
    }
   ],
   "source": [
    "df_u_center_turns = shuffle(u_center_turns)\n",
    "df_u_left_turns = shuffle(u_left_turns)\n",
    "df_u_right_turns = shuffle(u_right_turns)\n",
    "\n",
    "# Concat\n",
    "df_concat = [df_u_center_turns, df_u_left_turns, df_u_right_turns]\n",
    "train_data = pd.concat(df_concat, axis=0, join=\"outer\", ignore_index=False)\n",
    "\n",
    "# Shuffle One more Time\n",
    "train_data = shuffle(train_data)\n",
    "print('training data size: ', len(train_data.index))"
   ]
  },
  {
   "cell_type": "markdown",
   "metadata": {},
   "source": [
    "### Train Test Split"
   ]
  },
  {
   "cell_type": "code",
   "execution_count": 32,
   "metadata": {
    "collapsed": false
   },
   "outputs": [
    {
     "name": "stdout",
     "output_type": "stream",
     "text": [
      "train_data size:  11729088\n",
      "valid_data size:  2932272\n"
     ]
    }
   ],
   "source": [
    "train_data, valid_data = train_test_split(train_data, test_size=0.2)\n",
    "print('train_data size: ', len(train_data.index))\n",
    "print('valid_data size: ', len(valid_data.index))"
   ]
  },
  {
   "cell_type": "markdown",
   "metadata": {},
   "source": [
    "#### Steering Angles of Training Data"
   ]
  },
  {
   "cell_type": "code",
   "execution_count": 34,
   "metadata": {
    "collapsed": false
   },
   "outputs": [
    {
     "data": {
      "text/plain": [
       "<matplotlib.text.Text at 0x1b7ec98d0>"
      ]
     },
     "execution_count": 34,
     "metadata": {},
     "output_type": "execute_result"
    },
    {
     "data": {
      "image/png": "[encoded data removed]",
      "text/plain": [
       "<matplotlib.figure.Figure at 0x124467f28>"
      ]
     },
     "metadata": {},
     "output_type": "display_data"
    }
   ],
   "source": [
    "plt.hist(np.asarray(train_data['steering']))\n",
    "plt.title('Steering Angles of Training Data')"
   ]
  },
  {
   "cell_type": "markdown",
   "metadata": {},
   "source": [
    "### Data Preprocessing\n",
    "\n",
    "#### Helpers"
   ]
  },
  {
   "cell_type": "code",
   "execution_count": 61,
   "metadata": {
    "collapsed": false
   },
   "outputs": [],
   "source": [
    "# Brightness Augmentation: We need to consider poor lighting conditions, shadows, darker lane lines\n",
    "def brightness_augmentation(img):\n",
    "    bright_factor = 0.2 + np.random.uniform()\n",
    "    hsv_img = cv2.cvtColor(img, cv2.COLOR_RGB2HSV)\n",
    "    hsv_img[:,:,2] = hsv_img[:,:,2] * bright_factor # change second channel\n",
    "    rgb_img = cv2.cvtColor(hsv_img, cv2.COLOR_HSV2RGB)\n",
    "    return rgb_img\n",
    "\n",
    "# Flip, Flip, Flip: Trick to teach car model to drive counter-clockwise\n",
    "def flip_image(img):\n",
    "    return cv2.flip(img, 1)\n",
    "    # image = np.fliplr(img)\n",
    "    # ang = -1 * ang\n",
    "    # return (image, ang)\n",
    "\n",
    "# Crop, Crop, Crop: Focus on the road, remove excess\n",
    "# Note: Keras is still an option\n",
    "def crop_image(img):\n",
    "    return img[img.shape[0] * 0.35 : img.shape[0] * 0.875, :, :]\n",
    "\n",
    "# Resize: Adjust to NVIDIA's Neural Network\n",
    "def resize_image(img):\n",
    "    return cv2.resize(img, (220, 66), interpolation=cv2.INTER_AREA)\n",
    "\n",
    "def convert_path_to_image(path):\n",
    "    return cv2.imread(path)\n",
    "\n",
    "def preprocess_img_given_path(path, steering):\n",
    "    img = convert_path_to_image(path)\n",
    "    img = cv2.cvtColor(img, cv2.COLOR_BGR2RGB)\n",
    "    img = brightness_augmentation(img)\n",
    "    \n",
    "    rndm_flip = np.random.randint(2)\n",
    "    if rndm_flip == 0:\n",
    "        img = flip_image(img)\n",
    "    \n",
    "    img = crop_image(img)\n",
    "    return img, steering\n",
    "\n",
    "def preprocess_img_valid_given_path(path, steering):\n",
    "    img = cv2.imread(path)\n",
    "    img = cv2.cvtColor(img, cv2.COLOR_BGR2RGB)\n",
    "    img = crop_image(img)\n",
    "    img = cv2.resize(img, (220, 66), interpolation=cv2.INTER_AREA)\n",
    "    return img\n",
    "\n",
    "# Original Image\n",
    "# test = cv2.imread(center_turns[0][0])\n",
    "# plt.title('Original Image')\n",
    "# plt.imshow(test)"
   ]
  },
  {
   "cell_type": "code",
   "execution_count": 62,
   "metadata": {
    "collapsed": false
   },
   "outputs": [],
   "source": [
    "# Brightness Tweak\n",
    "# test = brightness_augmentation(test)\n",
    "# plt.title('Brightness Adujusted Image')\n",
    "# plt.imshow(test)"
   ]
  },
  {
   "cell_type": "code",
   "execution_count": 63,
   "metadata": {
    "collapsed": false
   },
   "outputs": [],
   "source": [
    "# Brightness Tweak\n",
    "# test = flip_image(test)\n",
    "# plt.title('Flipped Image')\n",
    "# plt.imshow(test)"
   ]
  },
  {
   "cell_type": "code",
   "execution_count": 64,
   "metadata": {
    "collapsed": false
   },
   "outputs": [],
   "source": [
    "# Crop\n",
    "# test = crop_image(test)\n",
    "# plt.title('Cropped Image')\n",
    "# plt.imshow(test)"
   ]
  },
  {
   "cell_type": "code",
   "execution_count": 65,
   "metadata": {
    "collapsed": false
   },
   "outputs": [],
   "source": [
    "# Resize\n",
    "# test = resize_image(test)\n",
    "# plt.title('Resize Image')\n",
    "# plt.imshow(test)"
   ]
  },
  {
   "cell_type": "markdown",
   "metadata": {},
   "source": [
    "### Generators "
   ]
  },
  {
   "cell_type": "code",
   "execution_count": 70,
   "metadata": {
    "collapsed": true
   },
   "outputs": [],
   "source": [
    "def generate_training_data(data, batch_size=32):\n",
    "    \"\"\"\n",
    "    - Iterate through data (DataFrame)\n",
    "    - Process each row (has paths to images)\n",
    "    \n",
    "    inputs: \n",
    "        - data: DataFrame\n",
    "        - batch_size: batch size\n",
    "    output: returns yield a batch of image_batch, label_batch\n",
    "    \"\"\"\n",
    "    \n",
    "    image_batch = np.zeros((batch_size * 2, 66, 220, 3)) # nvidia input params\n",
    "    label_batch = np.zeros((batch_size * 2))\n",
    "    \n",
    "    while True:\n",
    "        for i in range(batch_size):\n",
    "            idx = np.random.randint(len(data))\n",
    "            row = data.iloc[[idx]].reset_index()\n",
    "            # x = img, y = steering\n",
    "            x, y = preprocess_img_given_path(row['center'].values[0], row['steering'].values[0])\n",
    "            \n",
    "            x2, y2 = preprocess_img_given_path(row['center'].values[0], row['steering'].values[0])\n",
    "            \n",
    "            if np.random.randint(3) == 1:\n",
    "                # 33% chance to overwrite center image (2) with left image + correction_factor\n",
    "                x2, y2 = preprocess_img_given_path(row['left'].values[0], row['steering'] + 0.125)\n",
    "            if np.random.randint(3) == 2:\n",
    "                # 33% change to overwrite center image (2) give right image - correction_factor\n",
    "                x2, y2 = preprocess_img_given_path(row['right'].values[0], row['steering'] - 0.125)\n",
    "            \n",
    "            image_batch[i] = x\n",
    "            label_batch[i] = y\n",
    "            \n",
    "            image_batch[i + 1] = x2\n",
    "            label_batch[i + 1] = y2\n",
    "\n",
    "        yield shuffle(image_batch, label_batch)\n",
    "        \n",
    "def generate_validation_data(data):\n",
    "    \"\"\"\n",
    "    data: center camera images only, because thats what we observe (dataframe)\n",
    "    yields: one image, angle\n",
    "    \"\"\"\n",
    "    while True:\n",
    "        for idx in range(len(data)):\n",
    "            row = data.iloc[[idx]].reset_index()\n",
    "            img, angle = preprocess_img_valid_given_path(row['center'].values[0], row['steering'].values[0])\n",
    "            img = img.reshape(1, img.shape[0], img.shape[1], img.shape[2])\n",
    "            angle = np.array([[angle]])\n",
    "            yield img, angle"
   ]
  },
  {
   "cell_type": "markdown",
   "metadata": {},
   "source": [
    "### Network\n",
    "\n",
    "Per recommendation from Udacity, I stuck with the use of Nvidia's network architecture. After some research around the activation functions, I read that Exponential Linear Units are more effective for deep models that are more than 4 layers. ELUs actually performed better within the [ImageNet challenge](https://arxiv.org/pdf/1511.07289v1.pdf) within less epochs than Rectified Linear Units."
   ]
  },
  {
   "cell_type": "code",
   "execution_count": 71,
   "metadata": {
    "collapsed": false
   },
   "outputs": [],
   "source": [
    "from keras.models import Sequential\n",
    "from keras.layers.convolutional import Convolution2D\n",
    "from keras.layers.pooling import MaxPooling2D\n",
    "from keras.layers.core import Activation, Dropout, Flatten, Dense, Lambda\n",
    "from keras.layers import ELU\n",
    "from keras.optimizers import Adam\n",
    "\n",
    "# params pertain to nvidia\n",
    "img_h = 66\n",
    "img_w = 220\n",
    "img_c = 3\n",
    "\n",
    "def nvidia_model():\n",
    "    input_shape = (img_h, img_w, img_c)\n",
    "\n",
    "    # start model \n",
    "    model = Sequential()\n",
    "\n",
    "    # normalization\n",
    "    model.add(Lambda(lambda x: x / 127.5 - 1, input_shape=input_shape))\n",
    "    \n",
    "    # start neural network\n",
    "    # 'he_noram' - he_normal: Gaussian initialization scaled by fan_in (He et al., 2014)\n",
    "    model.add(Convolution2D(\n",
    "            24, 5, 5,\n",
    "            subsample=(2,2),\n",
    "            border_mode=\"valid\",\n",
    "            init=\"he_normal\",\n",
    "            name=\"conv1\"\n",
    "    ))\n",
    "    model.add(ELU())\n",
    "    \n",
    "    model.add(Convolution2D(\n",
    "            36, 5, 5,\n",
    "            subsample=(2,2),\n",
    "            border_mode=\"valid\",\n",
    "            init=\"he_normal\",\n",
    "            name=\"conv2\"\n",
    "    ))   \n",
    "    model.add(ELU())\n",
    "    model.add(Dropout(0.5))\n",
    "    \n",
    "    model.add(Convolution2D(\n",
    "            48, 5, 5,\n",
    "            subsample=(2,2),\n",
    "            border_mode=\"valid\",\n",
    "            init=\"he_normal\",\n",
    "            name=\"conv3\"\n",
    "    ))\n",
    "    model.add(ELU())\n",
    "    model.add(Dropout(0.5))\n",
    "    \n",
    "    model.add(Convolution2D(\n",
    "            64, 3, 3,\n",
    "            subsample=(1,1),\n",
    "            border_mode=\"valid\",\n",
    "            init=\"he_normal\",\n",
    "            name=\"conv4\"\n",
    "    ))\n",
    "    model.add(ELU())\n",
    "    model.add(Dropout(0.5))\n",
    "\n",
    "    model.add(Convolution2D(\n",
    "            64, 3, 3,\n",
    "            subsample=(1,1),\n",
    "            border_mode=\"valid\",\n",
    "            init=\"he_normal\",\n",
    "            name=\"conv5\"\n",
    "    ))\n",
    "\n",
    "    model.add(Flatten(name=\"flatten\"))\n",
    "    model.add(ELU())\n",
    "    model.add(Dense(100, init=\"he_normal\", name=\"fc1\"))\n",
    "    model.add(ELU())\n",
    "    model.add(Dense(50, init=\"he_normal\", name=\"fc2\"))\n",
    "    model.add(ELU())\n",
    "    model.add(Dense(10, init=\"he_normal\", name=\"fc3\"))\n",
    "    model.add(ELU())\n",
    "    model.add(Dense(1, name=\"out\", init=\"he_normal\"))\n",
    "    \n",
    "    model.compile(loss='mse', optimizer='adam')\n",
    "    \n",
    "    return model"
   ]
  },
  {
   "cell_type": "code",
   "execution_count": 72,
   "metadata": {
    "collapsed": false
   },
   "outputs": [],
   "source": [
    "val_size = len(valid_data.index)\n",
    "valid_generator = generate_validation_data(valid_data)\n",
    "BATCH=16"
   ]
  },
  {
   "cell_type": "code",
   "execution_count": 74,
   "metadata": {
    "collapsed": false
   },
   "outputs": [
    {
     "name": "stdout",
     "output_type": "stream",
     "text": [
      "train_size: 11729088\n",
      "Epoch 1/6\n"
     ]
    },
    {
     "name": "stderr",
     "output_type": "stream",
     "text": [
      "/Users/rudypena/anaconda/envs/carnd-term1/lib/python3.5/site-packages/ipykernel/__main__.py:19: VisibleDeprecationWarning: using a non-integer number instead of an integer will result in an error in the future\n",
      "Exception in thread Thread-7:\n",
      "Traceback (most recent call last):\n",
      "  File \"/Users/rudypena/anaconda/envs/carnd-term1/lib/python3.5/threading.py\", line 914, in _bootstrap_inner\n",
      "    self.run()\n",
      "  File \"/Users/rudypena/anaconda/envs/carnd-term1/lib/python3.5/threading.py\", line 862, in run\n",
      "    self._target(*self._args, **self._kwargs)\n",
      "  File \"/Users/rudypena/anaconda/envs/carnd-term1/lib/python3.5/site-packages/keras/engine/training.py\", line 429, in data_generator_task\n",
      "    generator_output = next(self._generator)\n",
      "  File \"<ipython-input-70-b324f43dc35f>\", line 31, in generate_training_data\n",
      "    image_batch[i] = x\n",
      "ValueError: could not broadcast input array from shape (84,320,3) into shape (66,220,3)\n",
      "\n"
     ]
    },
    {
     "ename": "ValueError",
     "evalue": "output of generator should be a tuple (x, y, sample_weight) or (x, y). Found: None",
     "output_type": "error",
     "traceback": [
      "\u001b[0;31m---------------------------------------------------------------------------\u001b[0m",
      "\u001b[0;31mValueError\u001b[0m                                Traceback (most recent call last)",
      "\u001b[0;32m<ipython-input-74-92a8fca6bae1>\u001b[0m in \u001b[0;36m<module>\u001b[0;34m()\u001b[0m\n\u001b[1;32m     10\u001b[0m         \u001b[0mnb_epoch\u001b[0m\u001b[0;34m=\u001b[0m\u001b[0;36m6\u001b[0m\u001b[0;34m,\u001b[0m\u001b[0;34m\u001b[0m\u001b[0m\n\u001b[1;32m     11\u001b[0m         \u001b[0mvalidation_data\u001b[0m\u001b[0;34m=\u001b[0m\u001b[0mvalid_generator\u001b[0m\u001b[0;34m,\u001b[0m\u001b[0;34m\u001b[0m\u001b[0m\n\u001b[0;32m---> 12\u001b[0;31m         \u001b[0mnb_val_samples\u001b[0m\u001b[0;34m=\u001b[0m\u001b[0mval_size\u001b[0m\u001b[0;34m\u001b[0m\u001b[0m\n\u001b[0m\u001b[1;32m     13\u001b[0m     )\n\u001b[1;32m     14\u001b[0m     \u001b[0mprint\u001b[0m\u001b[0;34m(\u001b[0m\u001b[0mhistory\u001b[0m\u001b[0;34m)\u001b[0m\u001b[0;34m\u001b[0m\u001b[0m\n",
      "\u001b[0;32m/Users/rudypena/anaconda/envs/carnd-term1/lib/python3.5/site-packages/keras/models.py\u001b[0m in \u001b[0;36mfit_generator\u001b[0;34m(self, generator, samples_per_epoch, nb_epoch, verbose, callbacks, validation_data, nb_val_samples, class_weight, max_q_size, nb_worker, pickle_safe, initial_epoch, **kwargs)\u001b[0m\n\u001b[1;32m    933\u001b[0m                                         \u001b[0mnb_worker\u001b[0m\u001b[0;34m=\u001b[0m\u001b[0mnb_worker\u001b[0m\u001b[0;34m,\u001b[0m\u001b[0;34m\u001b[0m\u001b[0m\n\u001b[1;32m    934\u001b[0m                                         \u001b[0mpickle_safe\u001b[0m\u001b[0;34m=\u001b[0m\u001b[0mpickle_safe\u001b[0m\u001b[0;34m,\u001b[0m\u001b[0;34m\u001b[0m\u001b[0m\n\u001b[0;32m--> 935\u001b[0;31m                                         initial_epoch=initial_epoch)\n\u001b[0m\u001b[1;32m    936\u001b[0m \u001b[0;34m\u001b[0m\u001b[0m\n\u001b[1;32m    937\u001b[0m     def evaluate_generator(self, generator, val_samples,\n",
      "\u001b[0;32m/Users/rudypena/anaconda/envs/carnd-term1/lib/python3.5/site-packages/keras/engine/training.py\u001b[0m in \u001b[0;36mfit_generator\u001b[0;34m(self, generator, samples_per_epoch, nb_epoch, verbose, callbacks, validation_data, nb_val_samples, class_weight, max_q_size, nb_worker, pickle_safe, initial_epoch)\u001b[0m\n\u001b[1;32m   1530\u001b[0m                                          \u001b[0;34m'(x, y, sample_weight) '\u001b[0m\u001b[0;34m\u001b[0m\u001b[0m\n\u001b[1;32m   1531\u001b[0m                                          \u001b[0;34m'or (x, y). Found: '\u001b[0m \u001b[0;34m+\u001b[0m\u001b[0;34m\u001b[0m\u001b[0m\n\u001b[0;32m-> 1532\u001b[0;31m                                          str(generator_output))\n\u001b[0m\u001b[1;32m   1533\u001b[0m                     \u001b[0;32mif\u001b[0m \u001b[0mlen\u001b[0m\u001b[0;34m(\u001b[0m\u001b[0mgenerator_output\u001b[0m\u001b[0;34m)\u001b[0m \u001b[0;34m==\u001b[0m \u001b[0;36m2\u001b[0m\u001b[0;34m:\u001b[0m\u001b[0;34m\u001b[0m\u001b[0m\n\u001b[1;32m   1534\u001b[0m                         \u001b[0mx\u001b[0m\u001b[0;34m,\u001b[0m \u001b[0my\u001b[0m \u001b[0;34m=\u001b[0m \u001b[0mgenerator_output\u001b[0m\u001b[0;34m\u001b[0m\u001b[0m\n",
      "\u001b[0;31mValueError\u001b[0m: output of generator should be a tuple (x, y, sample_weight) or (x, y). Found: None"
     ]
    }
   ],
   "source": [
    "model = nvidia_model()\n",
    "train_size = len(train_data.index)\n",
    "print('train_size:', train_size)\n",
    "\n",
    "for i in range(3):\n",
    "    train_generator = generate_training_data(train_data, BATCH)\n",
    "    history = model.fit_generator(\n",
    "        train_generator,\n",
    "        samples_per_epoch=20480,\n",
    "        nb_epoch=6,\n",
    "        validation_data=valid_generator,\n",
    "        nb_val_samples=val_size\n",
    "    )\n",
    "    print(history)\n",
    "    \n",
    "    model.save_weights('model-weights-F1.h5')\n",
    "    model.save('model-F1.h5')"
   ]
  },
  {
   "cell_type": "code",
   "execution_count": null,
   "metadata": {
    "collapsed": true
   },
   "outputs": [],
   "source": []
  },
  {
   "cell_type": "code",
   "execution_count": null,
   "metadata": {
    "collapsed": true
   },
   "outputs": [],
   "source": []
  },
  {
   "cell_type": "code",
   "execution_count": null,
   "metadata": {
    "collapsed": true
   },
   "outputs": [],
   "source": []
  }
 ],
 "metadata": {
  "anaconda-cloud": {},
  "kernelspec": {
   "display_name": "Python [conda env:carnd-term1]",
   "language": "python",
   "name": "conda-env-carnd-term1-py"
  },
  "language_info": {
   "codemirror_mode": {
    "name": "ipython",
    "version": 3
   },
   "file_extension": ".py",
   "mimetype": "text/x-python",
   "name": "python",
   "nbconvert_exporter": "python",
   "pygments_lexer": "ipython3",
   "version": "3.5.2"
  }
 },
 "nbformat": 4,
 "nbformat_minor": 1
}
